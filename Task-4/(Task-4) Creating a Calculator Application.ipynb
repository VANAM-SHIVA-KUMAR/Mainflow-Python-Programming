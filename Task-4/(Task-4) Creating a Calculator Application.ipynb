{
 "cells": [
  {
   "cell_type": "code",
   "execution_count": 2,
   "id": "e91cd5db",
   "metadata": {
    "scrolled": false
   },
   "outputs": [
    {
     "name": "stdout",
     "output_type": "stream",
     "text": [
      "Welcome to the Simple Calculator!\n",
      "Available operations:\n",
      "1. Addition (+)\n",
      "2. Subtraction (-)\n",
      "3. Multiplication (*)\n",
      "4. Division (/)\n",
      "Please enter an operation (or 'quit' to exit): *\n",
      "Enter the first number: 8\n",
      "Enter the second number: 59\n",
      "The result is: 472.0\n",
      "Please enter an operation (or 'quit' to exit): /\n",
      "Enter the first number: 4\n",
      "Enter the second number: 6\n",
      "The result is: 0.6666666666666666\n",
      "Please enter an operation (or 'quit' to exit): -\n",
      "Enter the first number: 58\n",
      "Enter the second number: 65\n",
      "The result is: -7.0\n",
      "Please enter an operation (or 'quit' to exit): +\n",
      "Enter the first number: 45\n",
      "Enter the second number: 12\n",
      "The result is: 57.0\n",
      "Please enter an operation (or 'quit' to exit): exit\n",
      "Invalid operation. Please try again.\n",
      "Please enter an operation (or 'quit' to exit): quit\n",
      "Thank you for using the calculator. Goodbye!\n"
     ]
    }
   ],
   "source": [
    "def add(a, b):\n",
    "    return a + b\n",
    "\n",
    "def subtract(a, b):\n",
    "    return a - b\n",
    "\n",
    "def multiply(a, b):\n",
    "    return a * b\n",
    "\n",
    "def divide(a, b):\n",
    "    if b == 0:\n",
    "        return \"Error! Division by zero.\"\n",
    "    return a / b\n",
    "\n",
    "def calculator():\n",
    "    print(\"Welcome to the Simple Calculator!\")\n",
    "    print(\"Available operations:\")\n",
    "    print(\"1. Addition (+)\")\n",
    "    print(\"2. Subtraction (-)\")\n",
    "    print(\"3. Multiplication (*)\")\n",
    "    print(\"4. Division (/)\")\n",
    "    \n",
    "    while True:\n",
    "        operation = input(\"Please enter an operation (or 'quit' to exit): \")\n",
    "        if operation.lower() == 'quit':\n",
    "            break\n",
    "        \n",
    "        if operation not in ['+', '-', '*', '/']:\n",
    "            print(\"Invalid operation. Please try again.\")\n",
    "            continue\n",
    "        \n",
    "        try:\n",
    "            num1 = float(input(\"Enter the first number: \"))\n",
    "            num2 = float(input(\"Enter the second number: \"))\n",
    "        except ValueError:\n",
    "            print(\"Invalid input. Please enter numerical values.\")\n",
    "            continue\n",
    "        \n",
    "        if operation == '+':\n",
    "            result = add(num1, num2)\n",
    "        elif operation == '-':\n",
    "            result = subtract(num1, num2)\n",
    "        elif operation == '*':\n",
    "            result = multiply(num1, num2)\n",
    "        elif operation == '/':\n",
    "            result = divide(num1, num2)\n",
    "        \n",
    "        print(f\"The result is: {result}\")\n",
    "    \n",
    "    print(\"Thank you for using the calculator. Goodbye!\")\n",
    "\n",
    "# Run the calculator\n",
    "calculator()\n"
   ]
  },
  {
   "cell_type": "code",
   "execution_count": null,
   "id": "700eaa4a",
   "metadata": {},
   "outputs": [],
   "source": []
  }
 ],
 "metadata": {
  "kernelspec": {
   "display_name": "Python 3 (ipykernel)",
   "language": "python",
   "name": "python3"
  },
  "language_info": {
   "codemirror_mode": {
    "name": "ipython",
    "version": 3
   },
   "file_extension": ".py",
   "mimetype": "text/x-python",
   "name": "python",
   "nbconvert_exporter": "python",
   "pygments_lexer": "ipython3",
   "version": "3.9.12"
  }
 },
 "nbformat": 4,
 "nbformat_minor": 5
}
